{
 "metadata": {
  "language_info": {
   "codemirror_mode": {
    "name": "ipython",
    "version": 3
   },
   "file_extension": ".py",
   "mimetype": "text/x-python",
   "name": "python",
   "nbconvert_exporter": "python",
   "pygments_lexer": "ipython3",
   "version": 3
  },
  "orig_nbformat": 2,
  "kernelspec": {
   "name": "python_defaultSpec_1595421655427",
   "display_name": "Python 3.7.7 64-bit"
  }
 },
 "nbformat": 4,
 "nbformat_minor": 2,
 "cells": [
  {
   "cell_type": "code",
   "execution_count": 1,
   "metadata": {},
   "outputs": [],
   "source": [
    "import pandas as pd"
   ]
  },
  {
   "cell_type": "code",
   "execution_count": 11,
   "metadata": {},
   "outputs": [],
   "source": [
    "df = pd.read_csv('exercise.csv')"
   ]
  },
  {
   "cell_type": "code",
   "execution_count": 12,
   "metadata": {},
   "outputs": [
    {
     "output_type": "execute_result",
     "data": {
      "text/plain": "   case  cc3  country  year  systemic_crisis  exch_usd  \\\n0     1  DZA  Algeria  1870                1  0.052264   \n1     1  DZA  Algeria  1871                0  0.052798   \n2     1  DZA  Algeria  1872                0  0.052274   \n3     1  DZA  Algeria  1873                0  0.051680   \n4     1  DZA  Algeria  1874                0  0.051308   \n\n   domestic_debt_in_default  sovereign_external_debt_default  \\\n0                         0                                0   \n1                         0                                0   \n2                         0                                0   \n3                         0                                0   \n4                         0                                0   \n\n   gdp_weighted_default  inflation_annual_cpi  independence  currency_crises  \\\n0                   0.0              3.441456             0                0   \n1                   0.0             14.149140             0                0   \n2                   0.0             -3.718593             0                0   \n3                   0.0             11.203897             0                0   \n4                   0.0             -3.848561             0                0   \n\n   inflation_crises banking_crisis  \n0                 0         crisis  \n1                 0      no_crisis  \n2                 0      no_crisis  \n3                 0      no_crisis  \n4                 0      no_crisis  ",
      "text/html": "<div>\n<style scoped>\n    .dataframe tbody tr th:only-of-type {\n        vertical-align: middle;\n    }\n\n    .dataframe tbody tr th {\n        vertical-align: top;\n    }\n\n    .dataframe thead th {\n        text-align: right;\n    }\n</style>\n<table border=\"1\" class=\"dataframe\">\n  <thead>\n    <tr style=\"text-align: right;\">\n      <th></th>\n      <th>case</th>\n      <th>cc3</th>\n      <th>country</th>\n      <th>year</th>\n      <th>systemic_crisis</th>\n      <th>exch_usd</th>\n      <th>domestic_debt_in_default</th>\n      <th>sovereign_external_debt_default</th>\n      <th>gdp_weighted_default</th>\n      <th>inflation_annual_cpi</th>\n      <th>independence</th>\n      <th>currency_crises</th>\n      <th>inflation_crises</th>\n      <th>banking_crisis</th>\n    </tr>\n  </thead>\n  <tbody>\n    <tr>\n      <th>0</th>\n      <td>1</td>\n      <td>DZA</td>\n      <td>Algeria</td>\n      <td>1870</td>\n      <td>1</td>\n      <td>0.052264</td>\n      <td>0</td>\n      <td>0</td>\n      <td>0.0</td>\n      <td>3.441456</td>\n      <td>0</td>\n      <td>0</td>\n      <td>0</td>\n      <td>crisis</td>\n    </tr>\n    <tr>\n      <th>1</th>\n      <td>1</td>\n      <td>DZA</td>\n      <td>Algeria</td>\n      <td>1871</td>\n      <td>0</td>\n      <td>0.052798</td>\n      <td>0</td>\n      <td>0</td>\n      <td>0.0</td>\n      <td>14.149140</td>\n      <td>0</td>\n      <td>0</td>\n      <td>0</td>\n      <td>no_crisis</td>\n    </tr>\n    <tr>\n      <th>2</th>\n      <td>1</td>\n      <td>DZA</td>\n      <td>Algeria</td>\n      <td>1872</td>\n      <td>0</td>\n      <td>0.052274</td>\n      <td>0</td>\n      <td>0</td>\n      <td>0.0</td>\n      <td>-3.718593</td>\n      <td>0</td>\n      <td>0</td>\n      <td>0</td>\n      <td>no_crisis</td>\n    </tr>\n    <tr>\n      <th>3</th>\n      <td>1</td>\n      <td>DZA</td>\n      <td>Algeria</td>\n      <td>1873</td>\n      <td>0</td>\n      <td>0.051680</td>\n      <td>0</td>\n      <td>0</td>\n      <td>0.0</td>\n      <td>11.203897</td>\n      <td>0</td>\n      <td>0</td>\n      <td>0</td>\n      <td>no_crisis</td>\n    </tr>\n    <tr>\n      <th>4</th>\n      <td>1</td>\n      <td>DZA</td>\n      <td>Algeria</td>\n      <td>1874</td>\n      <td>0</td>\n      <td>0.051308</td>\n      <td>0</td>\n      <td>0</td>\n      <td>0.0</td>\n      <td>-3.848561</td>\n      <td>0</td>\n      <td>0</td>\n      <td>0</td>\n      <td>no_crisis</td>\n    </tr>\n  </tbody>\n</table>\n</div>"
     },
     "metadata": {},
     "execution_count": 12
    }
   ],
   "source": [
    "# Display all data in the dataframe\n",
    "df.head() # df[:5] will return the same thing"
   ]
  },
  {
   "cell_type": "code",
   "execution_count": 46,
   "metadata": {},
   "outputs": [
    {
     "output_type": "execute_result",
     "data": {
      "text/plain": "13"
     },
     "metadata": {},
     "execution_count": 46
    }
   ],
   "source": [
    "# Count number of country in the datasets\n",
    "df['country'].nunique()"
   ]
  },
  {
   "cell_type": "code",
   "execution_count": 29,
   "metadata": {},
   "outputs": [
    {
     "output_type": "execute_result",
     "data": {
      "text/plain": "array(['Algeria', 'Angola', 'Central African Republic', 'Ivory Coast',\n       'Egypt', 'Kenya', 'Mauritius', 'Morocco', 'Nigeria',\n       'South Africa', 'Tunisia', 'Zambia', 'Zimbabwe'], dtype=object)"
     },
     "metadata": {},
     "execution_count": 29
    }
   ],
   "source": [
    "# How many country represented in the datasets\n",
    "df['country'].unique()"
   ]
  },
  {
   "cell_type": "code",
   "execution_count": 38,
   "metadata": {},
   "outputs": [
    {
     "output_type": "execute_result",
     "data": {
      "text/plain": "      case  cc3   country  year  systemic_crisis  exch_usd  \\\n1053    70  ZWE  Zimbabwe  2008                1     0.002   \n\n      domestic_debt_in_default  sovereign_external_debt_default  \\\n1053                         1                                1   \n\n      gdp_weighted_default  inflation_annual_cpi  independence  \\\n1053                   0.0           21989695.22             1   \n\n      currency_crises  inflation_crises banking_crisis  \n1053                1                 1         crisis  ",
      "text/html": "<div>\n<style scoped>\n    .dataframe tbody tr th:only-of-type {\n        vertical-align: middle;\n    }\n\n    .dataframe tbody tr th {\n        vertical-align: top;\n    }\n\n    .dataframe thead th {\n        text-align: right;\n    }\n</style>\n<table border=\"1\" class=\"dataframe\">\n  <thead>\n    <tr style=\"text-align: right;\">\n      <th></th>\n      <th>case</th>\n      <th>cc3</th>\n      <th>country</th>\n      <th>year</th>\n      <th>systemic_crisis</th>\n      <th>exch_usd</th>\n      <th>domestic_debt_in_default</th>\n      <th>sovereign_external_debt_default</th>\n      <th>gdp_weighted_default</th>\n      <th>inflation_annual_cpi</th>\n      <th>independence</th>\n      <th>currency_crises</th>\n      <th>inflation_crises</th>\n      <th>banking_crisis</th>\n    </tr>\n  </thead>\n  <tbody>\n    <tr>\n      <th>1053</th>\n      <td>70</td>\n      <td>ZWE</td>\n      <td>Zimbabwe</td>\n      <td>2008</td>\n      <td>1</td>\n      <td>0.002</td>\n      <td>1</td>\n      <td>1</td>\n      <td>0.0</td>\n      <td>21989695.22</td>\n      <td>1</td>\n      <td>1</td>\n      <td>1</td>\n      <td>crisis</td>\n    </tr>\n  </tbody>\n</table>\n</div>"
     },
     "metadata": {},
     "execution_count": 38
    }
   ],
   "source": [
    "# Country with highest CPI inflation rate\n",
    "df.sort_values('inflation_annual_cpi', ascending=False).head(1)"
   ]
  },
  {
   "cell_type": "code",
   "execution_count": 44,
   "metadata": {},
   "outputs": [
    {
     "output_type": "execute_result",
     "data": {
      "text/plain": "     case  cc3 country  year  systemic_crisis  exch_usd  \\\n475    35  KEN   Kenya  1985                1   16.2843   \n\n     domestic_debt_in_default  sovereign_external_debt_default  \\\n475                         0                                0   \n\n     gdp_weighted_default  inflation_annual_cpi  independence  \\\n475                   0.0                11.398             1   \n\n     currency_crises  inflation_crises banking_crisis  \n475                0                 0         crisis  ",
      "text/html": "<div>\n<style scoped>\n    .dataframe tbody tr th:only-of-type {\n        vertical-align: middle;\n    }\n\n    .dataframe tbody tr th {\n        vertical-align: top;\n    }\n\n    .dataframe thead th {\n        text-align: right;\n    }\n</style>\n<table border=\"1\" class=\"dataframe\">\n  <thead>\n    <tr style=\"text-align: right;\">\n      <th></th>\n      <th>case</th>\n      <th>cc3</th>\n      <th>country</th>\n      <th>year</th>\n      <th>systemic_crisis</th>\n      <th>exch_usd</th>\n      <th>domestic_debt_in_default</th>\n      <th>sovereign_external_debt_default</th>\n      <th>gdp_weighted_default</th>\n      <th>inflation_annual_cpi</th>\n      <th>independence</th>\n      <th>currency_crises</th>\n      <th>inflation_crises</th>\n      <th>banking_crisis</th>\n    </tr>\n  </thead>\n  <tbody>\n    <tr>\n      <th>475</th>\n      <td>35</td>\n      <td>KEN</td>\n      <td>Kenya</td>\n      <td>1985</td>\n      <td>1</td>\n      <td>16.2843</td>\n      <td>0</td>\n      <td>0</td>\n      <td>0.0</td>\n      <td>11.398</td>\n      <td>1</td>\n      <td>0</td>\n      <td>0</td>\n      <td>crisis</td>\n    </tr>\n  </tbody>\n</table>\n</div>"
     },
     "metadata": {},
     "execution_count": 44
    }
   ],
   "source": [
    "df[(df['country']=='Kenya') & (df['systemic_crisis']==1)].sort_values('year').head(1)"
   ]
  },
  {
   "cell_type": "code",
   "execution_count": 45,
   "metadata": {},
   "outputs": [
    {
     "output_type": "execute_result",
     "data": {
      "text/plain": "                          case  cc3  year  systemic_crisis  exch_usd  \\\ncountry                                                                \nAlgeria                      4    4     4                4         4   \nCentral African Republic    19   19    19               19        19   \nEgypt                        6    6     6                6         6   \nIvory Coast                  4    4     4                4         4   \nKenya                       13   13    13               13        13   \nMorocco                      2    2     2                2         2   \nNigeria                     10   10    10               10        10   \nTunisia                      5    5     5                5         5   \nZambia                       4    4     4                4         4   \nZimbabwe                    15   15    15               15        15   \n\n                          domestic_debt_in_default  \\\ncountry                                              \nAlgeria                                          4   \nCentral African Republic                        19   \nEgypt                                            6   \nIvory Coast                                      4   \nKenya                                           13   \nMorocco                                          2   \nNigeria                                         10   \nTunisia                                          5   \nZambia                                           4   \nZimbabwe                                        15   \n\n                          sovereign_external_debt_default  \\\ncountry                                                     \nAlgeria                                                 4   \nCentral African Republic                               19   \nEgypt                                                   6   \nIvory Coast                                             4   \nKenya                                                  13   \nMorocco                                                 2   \nNigeria                                                10   \nTunisia                                                 5   \nZambia                                                  4   \nZimbabwe                                               15   \n\n                          gdp_weighted_default  inflation_annual_cpi  \\\ncountry                                                                \nAlgeria                                      4                     4   \nCentral African Republic                    19                    19   \nEgypt                                        6                     6   \nIvory Coast                                  4                     4   \nKenya                                       13                    13   \nMorocco                                      2                     2   \nNigeria                                     10                    10   \nTunisia                                      5                     5   \nZambia                                       4                     4   \nZimbabwe                                    15                    15   \n\n                          independence  currency_crises  inflation_crises  \\\ncountry                                                                     \nAlgeria                              4                4                 4   \nCentral African Republic            19               19                19   \nEgypt                                6                6                 6   \nIvory Coast                          4                4                 4   \nKenya                               13               13                13   \nMorocco                              2                2                 2   \nNigeria                             10               10                10   \nTunisia                              5                5                 5   \nZambia                               4                4                 4   \nZimbabwe                            15               15                15   \n\n                          banking_crisis  \ncountry                                   \nAlgeria                                4  \nCentral African Republic              19  \nEgypt                                  6  \nIvory Coast                            4  \nKenya                                 13  \nMorocco                                2  \nNigeria                               10  \nTunisia                                5  \nZambia                                 4  \nZimbabwe                              15  ",
      "text/html": "<div>\n<style scoped>\n    .dataframe tbody tr th:only-of-type {\n        vertical-align: middle;\n    }\n\n    .dataframe tbody tr th {\n        vertical-align: top;\n    }\n\n    .dataframe thead th {\n        text-align: right;\n    }\n</style>\n<table border=\"1\" class=\"dataframe\">\n  <thead>\n    <tr style=\"text-align: right;\">\n      <th></th>\n      <th>case</th>\n      <th>cc3</th>\n      <th>year</th>\n      <th>systemic_crisis</th>\n      <th>exch_usd</th>\n      <th>domestic_debt_in_default</th>\n      <th>sovereign_external_debt_default</th>\n      <th>gdp_weighted_default</th>\n      <th>inflation_annual_cpi</th>\n      <th>independence</th>\n      <th>currency_crises</th>\n      <th>inflation_crises</th>\n      <th>banking_crisis</th>\n    </tr>\n    <tr>\n      <th>country</th>\n      <th></th>\n      <th></th>\n      <th></th>\n      <th></th>\n      <th></th>\n      <th></th>\n      <th></th>\n      <th></th>\n      <th></th>\n      <th></th>\n      <th></th>\n      <th></th>\n      <th></th>\n    </tr>\n  </thead>\n  <tbody>\n    <tr>\n      <th>Algeria</th>\n      <td>4</td>\n      <td>4</td>\n      <td>4</td>\n      <td>4</td>\n      <td>4</td>\n      <td>4</td>\n      <td>4</td>\n      <td>4</td>\n      <td>4</td>\n      <td>4</td>\n      <td>4</td>\n      <td>4</td>\n      <td>4</td>\n    </tr>\n    <tr>\n      <th>Central African Republic</th>\n      <td>19</td>\n      <td>19</td>\n      <td>19</td>\n      <td>19</td>\n      <td>19</td>\n      <td>19</td>\n      <td>19</td>\n      <td>19</td>\n      <td>19</td>\n      <td>19</td>\n      <td>19</td>\n      <td>19</td>\n      <td>19</td>\n    </tr>\n    <tr>\n      <th>Egypt</th>\n      <td>6</td>\n      <td>6</td>\n      <td>6</td>\n      <td>6</td>\n      <td>6</td>\n      <td>6</td>\n      <td>6</td>\n      <td>6</td>\n      <td>6</td>\n      <td>6</td>\n      <td>6</td>\n      <td>6</td>\n      <td>6</td>\n    </tr>\n    <tr>\n      <th>Ivory Coast</th>\n      <td>4</td>\n      <td>4</td>\n      <td>4</td>\n      <td>4</td>\n      <td>4</td>\n      <td>4</td>\n      <td>4</td>\n      <td>4</td>\n      <td>4</td>\n      <td>4</td>\n      <td>4</td>\n      <td>4</td>\n      <td>4</td>\n    </tr>\n    <tr>\n      <th>Kenya</th>\n      <td>13</td>\n      <td>13</td>\n      <td>13</td>\n      <td>13</td>\n      <td>13</td>\n      <td>13</td>\n      <td>13</td>\n      <td>13</td>\n      <td>13</td>\n      <td>13</td>\n      <td>13</td>\n      <td>13</td>\n      <td>13</td>\n    </tr>\n    <tr>\n      <th>Morocco</th>\n      <td>2</td>\n      <td>2</td>\n      <td>2</td>\n      <td>2</td>\n      <td>2</td>\n      <td>2</td>\n      <td>2</td>\n      <td>2</td>\n      <td>2</td>\n      <td>2</td>\n      <td>2</td>\n      <td>2</td>\n      <td>2</td>\n    </tr>\n    <tr>\n      <th>Nigeria</th>\n      <td>10</td>\n      <td>10</td>\n      <td>10</td>\n      <td>10</td>\n      <td>10</td>\n      <td>10</td>\n      <td>10</td>\n      <td>10</td>\n      <td>10</td>\n      <td>10</td>\n      <td>10</td>\n      <td>10</td>\n      <td>10</td>\n    </tr>\n    <tr>\n      <th>Tunisia</th>\n      <td>5</td>\n      <td>5</td>\n      <td>5</td>\n      <td>5</td>\n      <td>5</td>\n      <td>5</td>\n      <td>5</td>\n      <td>5</td>\n      <td>5</td>\n      <td>5</td>\n      <td>5</td>\n      <td>5</td>\n      <td>5</td>\n    </tr>\n    <tr>\n      <th>Zambia</th>\n      <td>4</td>\n      <td>4</td>\n      <td>4</td>\n      <td>4</td>\n      <td>4</td>\n      <td>4</td>\n      <td>4</td>\n      <td>4</td>\n      <td>4</td>\n      <td>4</td>\n      <td>4</td>\n      <td>4</td>\n      <td>4</td>\n    </tr>\n    <tr>\n      <th>Zimbabwe</th>\n      <td>15</td>\n      <td>15</td>\n      <td>15</td>\n      <td>15</td>\n      <td>15</td>\n      <td>15</td>\n      <td>15</td>\n      <td>15</td>\n      <td>15</td>\n      <td>15</td>\n      <td>15</td>\n      <td>15</td>\n      <td>15</td>\n    </tr>\n  </tbody>\n</table>\n</div>"
     },
     "metadata": {},
     "execution_count": 45
    }
   ],
   "source": [
    "crisis = df[df['systemic_crisis']==1]\n",
    "crisis.groupby('country').count()"
   ]
  },
  {
   "cell_type": "code",
   "execution_count": 50,
   "metadata": {},
   "outputs": [
    {
     "output_type": "execute_result",
     "data": {
      "text/plain": "30"
     },
     "metadata": {},
     "execution_count": 50
    }
   ],
   "source": [
    "len(df[(df['country'] == 'Zimbabwe') & (df['sovereign_external_debt_default']==1)])"
   ]
  },
  {
   "cell_type": "code",
   "execution_count": null,
   "metadata": {},
   "outputs": [],
   "source": []
  }
 ]
}