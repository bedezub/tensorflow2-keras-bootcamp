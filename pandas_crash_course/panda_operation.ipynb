{
 "metadata": {
  "language_info": {
   "codemirror_mode": {
    "name": "ipython",
    "version": 3
   },
   "file_extension": ".py",
   "mimetype": "text/x-python",
   "name": "python",
   "nbconvert_exporter": "python",
   "pygments_lexer": "ipython3",
   "version": "3.7.7-final"
  },
  "orig_nbformat": 2,
  "kernelspec": {
   "name": "python37764bit360fd688bb724363a5e0370e95113118",
   "display_name": "Python 3.7.7 64-bit"
  }
 },
 "nbformat": 4,
 "nbformat_minor": 2,
 "cells": [
  {
   "cell_type": "code",
   "execution_count": 33,
   "metadata": {},
   "outputs": [],
   "source": [
    "import pandas as pd\n",
    "\n",
    "df_one = pd.DataFrame({\n",
    "    'k1'  :['A', 'A', 'B', 'B', 'C', 'C'],\n",
    "    'col1':[100, 200, 300, 300, 400, 500],\n",
    "    'col2':['NY', 'CA', 'WA', 'WA', 'AK', 'NV']\n",
    "})"
   ]
  },
  {
   "cell_type": "code",
   "execution_count": 34,
   "metadata": {},
   "outputs": [
    {
     "output_type": "execute_result",
     "data": {
      "text/plain": "  k1  col1 col2\n0  A   100   NY\n1  A   200   CA\n2  B   300   WA\n3  B   300   WA\n4  C   400   AK\n5  C   500   NV",
      "text/html": "<div>\n<style scoped>\n    .dataframe tbody tr th:only-of-type {\n        vertical-align: middle;\n    }\n\n    .dataframe tbody tr th {\n        vertical-align: top;\n    }\n\n    .dataframe thead th {\n        text-align: right;\n    }\n</style>\n<table border=\"1\" class=\"dataframe\">\n  <thead>\n    <tr style=\"text-align: right;\">\n      <th></th>\n      <th>k1</th>\n      <th>col1</th>\n      <th>col2</th>\n    </tr>\n  </thead>\n  <tbody>\n    <tr>\n      <th>0</th>\n      <td>A</td>\n      <td>100</td>\n      <td>NY</td>\n    </tr>\n    <tr>\n      <th>1</th>\n      <td>A</td>\n      <td>200</td>\n      <td>CA</td>\n    </tr>\n    <tr>\n      <th>2</th>\n      <td>B</td>\n      <td>300</td>\n      <td>WA</td>\n    </tr>\n    <tr>\n      <th>3</th>\n      <td>B</td>\n      <td>300</td>\n      <td>WA</td>\n    </tr>\n    <tr>\n      <th>4</th>\n      <td>C</td>\n      <td>400</td>\n      <td>AK</td>\n    </tr>\n    <tr>\n      <th>5</th>\n      <td>C</td>\n      <td>500</td>\n      <td>NV</td>\n    </tr>\n  </tbody>\n</table>\n</div>"
     },
     "metadata": {},
     "execution_count": 34
    }
   ],
   "source": [
    "df_one "
   ]
  },
  {
   "cell_type": "code",
   "execution_count": 35,
   "metadata": {},
   "outputs": [
    {
     "output_type": "execute_result",
     "data": {
      "text/plain": "array(['NY', 'CA', 'WA', 'AK', 'NV'], dtype=object)"
     },
     "metadata": {},
     "execution_count": 35
    }
   ],
   "source": [
    " df_one['col2'].unique()"
   ]
  },
  {
   "cell_type": "code",
   "execution_count": 36,
   "metadata": {},
   "outputs": [
    {
     "output_type": "execute_result",
     "data": {
      "text/plain": "5"
     },
     "metadata": {},
     "execution_count": 36
    }
   ],
   "source": [
    "df_one['col2'].nunique()"
   ]
  },
  {
   "cell_type": "code",
   "execution_count": 37,
   "metadata": {},
   "outputs": [
    {
     "output_type": "execute_result",
     "data": {
      "text/plain": "WA    2\nNV    1\nNY    1\nCA    1\nAK    1\nName: col2, dtype: int64"
     },
     "metadata": {},
     "execution_count": 37
    }
   ],
   "source": [
    "df_one['col2'].value_counts()"
   ]
  },
  {
   "cell_type": "code",
   "execution_count": 38,
   "metadata": {},
   "outputs": [
    {
     "output_type": "execute_result",
     "data": {
      "text/plain": "  k1  col1 col2\n0  A   100   NY\n1  A   200   CA\n2  B   300   WA\n4  C   400   AK\n5  C   500   NV",
      "text/html": "<div>\n<style scoped>\n    .dataframe tbody tr th:only-of-type {\n        vertical-align: middle;\n    }\n\n    .dataframe tbody tr th {\n        vertical-align: top;\n    }\n\n    .dataframe thead th {\n        text-align: right;\n    }\n</style>\n<table border=\"1\" class=\"dataframe\">\n  <thead>\n    <tr style=\"text-align: right;\">\n      <th></th>\n      <th>k1</th>\n      <th>col1</th>\n      <th>col2</th>\n    </tr>\n  </thead>\n  <tbody>\n    <tr>\n      <th>0</th>\n      <td>A</td>\n      <td>100</td>\n      <td>NY</td>\n    </tr>\n    <tr>\n      <th>1</th>\n      <td>A</td>\n      <td>200</td>\n      <td>CA</td>\n    </tr>\n    <tr>\n      <th>2</th>\n      <td>B</td>\n      <td>300</td>\n      <td>WA</td>\n    </tr>\n    <tr>\n      <th>4</th>\n      <td>C</td>\n      <td>400</td>\n      <td>AK</td>\n    </tr>\n    <tr>\n      <th>5</th>\n      <td>C</td>\n      <td>500</td>\n      <td>NV</td>\n    </tr>\n  </tbody>\n</table>\n</div>"
     },
     "metadata": {},
     "execution_count": 38
    }
   ],
   "source": [
    "df_one.drop_duplicates()"
   ]
  },
  {
   "cell_type": "code",
   "execution_count": 39,
   "metadata": {},
   "outputs": [],
   "source": [
    "df_one['NEW'] = df_one['col1'] * 10"
   ]
  },
  {
   "cell_type": "code",
   "execution_count": 40,
   "metadata": {},
   "outputs": [
    {
     "output_type": "execute_result",
     "data": {
      "text/plain": "  k1  col1 col2   NEW\n0  A   100   NY  1000\n1  A   200   CA  2000\n2  B   300   WA  3000\n3  B   300   WA  3000\n4  C   400   AK  4000\n5  C   500   NV  5000",
      "text/html": "<div>\n<style scoped>\n    .dataframe tbody tr th:only-of-type {\n        vertical-align: middle;\n    }\n\n    .dataframe tbody tr th {\n        vertical-align: top;\n    }\n\n    .dataframe thead th {\n        text-align: right;\n    }\n</style>\n<table border=\"1\" class=\"dataframe\">\n  <thead>\n    <tr style=\"text-align: right;\">\n      <th></th>\n      <th>k1</th>\n      <th>col1</th>\n      <th>col2</th>\n      <th>NEW</th>\n    </tr>\n  </thead>\n  <tbody>\n    <tr>\n      <th>0</th>\n      <td>A</td>\n      <td>100</td>\n      <td>NY</td>\n      <td>1000</td>\n    </tr>\n    <tr>\n      <th>1</th>\n      <td>A</td>\n      <td>200</td>\n      <td>CA</td>\n      <td>2000</td>\n    </tr>\n    <tr>\n      <th>2</th>\n      <td>B</td>\n      <td>300</td>\n      <td>WA</td>\n      <td>3000</td>\n    </tr>\n    <tr>\n      <th>3</th>\n      <td>B</td>\n      <td>300</td>\n      <td>WA</td>\n      <td>3000</td>\n    </tr>\n    <tr>\n      <th>4</th>\n      <td>C</td>\n      <td>400</td>\n      <td>AK</td>\n      <td>4000</td>\n    </tr>\n    <tr>\n      <th>5</th>\n      <td>C</td>\n      <td>500</td>\n      <td>NV</td>\n      <td>5000</td>\n    </tr>\n  </tbody>\n</table>\n</div>"
     },
     "metadata": {},
     "execution_count": 40
    }
   ],
   "source": [
    "df_one"
   ]
  },
  {
   "cell_type": "code",
   "execution_count": 41,
   "metadata": {},
   "outputs": [],
   "source": [
    "def grab_second_letter(state):\n",
    "    return state[0]"
   ]
  },
  {
   "cell_type": "code",
   "execution_count": 42,
   "metadata": {},
   "outputs": [
    {
     "output_type": "execute_result",
     "data": {
      "text/plain": "'M'"
     },
     "metadata": {},
     "execution_count": 42
    }
   ],
   "source": [
    "grab_second_letter('MY')"
   ]
  },
  {
   "cell_type": "code",
   "execution_count": 43,
   "metadata": {},
   "outputs": [
    {
     "output_type": "execute_result",
     "data": {
      "text/plain": "  k1  col1 col2   NEW\n0  A   100   NY  1000\n1  A   200   CA  2000\n2  B   300   WA  3000\n3  B   300   WA  3000\n4  C   400   AK  4000\n5  C   500   NV  5000",
      "text/html": "<div>\n<style scoped>\n    .dataframe tbody tr th:only-of-type {\n        vertical-align: middle;\n    }\n\n    .dataframe tbody tr th {\n        vertical-align: top;\n    }\n\n    .dataframe thead th {\n        text-align: right;\n    }\n</style>\n<table border=\"1\" class=\"dataframe\">\n  <thead>\n    <tr style=\"text-align: right;\">\n      <th></th>\n      <th>k1</th>\n      <th>col1</th>\n      <th>col2</th>\n      <th>NEW</th>\n    </tr>\n  </thead>\n  <tbody>\n    <tr>\n      <th>0</th>\n      <td>A</td>\n      <td>100</td>\n      <td>NY</td>\n      <td>1000</td>\n    </tr>\n    <tr>\n      <th>1</th>\n      <td>A</td>\n      <td>200</td>\n      <td>CA</td>\n      <td>2000</td>\n    </tr>\n    <tr>\n      <th>2</th>\n      <td>B</td>\n      <td>300</td>\n      <td>WA</td>\n      <td>3000</td>\n    </tr>\n    <tr>\n      <th>3</th>\n      <td>B</td>\n      <td>300</td>\n      <td>WA</td>\n      <td>3000</td>\n    </tr>\n    <tr>\n      <th>4</th>\n      <td>C</td>\n      <td>400</td>\n      <td>AK</td>\n      <td>4000</td>\n    </tr>\n    <tr>\n      <th>5</th>\n      <td>C</td>\n      <td>500</td>\n      <td>NV</td>\n      <td>5000</td>\n    </tr>\n  </tbody>\n</table>\n</div>"
     },
     "metadata": {},
     "execution_count": 43
    }
   ],
   "source": [
    "df_one"
   ]
  },
  {
   "cell_type": "code",
   "execution_count": 44,
   "metadata": {},
   "outputs": [],
   "source": [
    "df_one['first letter'] = df_one['col2'].apply(grab_second_letter)"
   ]
  },
  {
   "cell_type": "code",
   "execution_count": 45,
   "metadata": {},
   "outputs": [
    {
     "output_type": "execute_result",
     "data": {
      "text/plain": "  k1  col1 col2   NEW first letter\n0  A   100   NY  1000            N\n1  A   200   CA  2000            C\n2  B   300   WA  3000            W\n3  B   300   WA  3000            W\n4  C   400   AK  4000            A\n5  C   500   NV  5000            N",
      "text/html": "<div>\n<style scoped>\n    .dataframe tbody tr th:only-of-type {\n        vertical-align: middle;\n    }\n\n    .dataframe tbody tr th {\n        vertical-align: top;\n    }\n\n    .dataframe thead th {\n        text-align: right;\n    }\n</style>\n<table border=\"1\" class=\"dataframe\">\n  <thead>\n    <tr style=\"text-align: right;\">\n      <th></th>\n      <th>k1</th>\n      <th>col1</th>\n      <th>col2</th>\n      <th>NEW</th>\n      <th>first letter</th>\n    </tr>\n  </thead>\n  <tbody>\n    <tr>\n      <th>0</th>\n      <td>A</td>\n      <td>100</td>\n      <td>NY</td>\n      <td>1000</td>\n      <td>N</td>\n    </tr>\n    <tr>\n      <th>1</th>\n      <td>A</td>\n      <td>200</td>\n      <td>CA</td>\n      <td>2000</td>\n      <td>C</td>\n    </tr>\n    <tr>\n      <th>2</th>\n      <td>B</td>\n      <td>300</td>\n      <td>WA</td>\n      <td>3000</td>\n      <td>W</td>\n    </tr>\n    <tr>\n      <th>3</th>\n      <td>B</td>\n      <td>300</td>\n      <td>WA</td>\n      <td>3000</td>\n      <td>W</td>\n    </tr>\n    <tr>\n      <th>4</th>\n      <td>C</td>\n      <td>400</td>\n      <td>AK</td>\n      <td>4000</td>\n      <td>A</td>\n    </tr>\n    <tr>\n      <th>5</th>\n      <td>C</td>\n      <td>500</td>\n      <td>NV</td>\n      <td>5000</td>\n      <td>N</td>\n    </tr>\n  </tbody>\n</table>\n</div>"
     },
     "metadata": {},
     "execution_count": 45
    }
   ],
   "source": [
    "df_one"
   ]
  },
  {
   "cell_type": "code",
   "execution_count": 46,
   "metadata": {},
   "outputs": [],
   "source": [
    "def complex_letter(state):\n",
    "\n",
    "    if state[0] == 'W':\n",
    "        return \"New York\"\n",
    "    else:\n",
    "        return \"Washinton\""
   ]
  },
  {
   "cell_type": "code",
   "execution_count": 47,
   "metadata": {},
   "outputs": [
    {
     "output_type": "execute_result",
     "data": {
      "text/plain": "0    A\n1    A\n2    B\n3    B\n4    C\n5    C\nName: k1, dtype: object"
     },
     "metadata": {},
     "execution_count": 47
    }
   ],
   "source": [
    "df_one['k1']"
   ]
  },
  {
   "cell_type": "code",
   "execution_count": 48,
   "metadata": {},
   "outputs": [],
   "source": [
    "my_map = {'A': 1, 'B': 2, 'C': 3}"
   ]
  },
  {
   "cell_type": "code",
   "execution_count": 49,
   "metadata": {},
   "outputs": [],
   "source": [
    "df_one['num'] = df_one['k1'].map(my_map)"
   ]
  },
  {
   "cell_type": "code",
   "execution_count": 50,
   "metadata": {},
   "outputs": [
    {
     "output_type": "execute_result",
     "data": {
      "text/plain": "  k1  col1 col2   NEW first letter  num\n0  A   100   NY  1000            N    1\n1  A   200   CA  2000            C    1\n2  B   300   WA  3000            W    2\n3  B   300   WA  3000            W    2\n4  C   400   AK  4000            A    3\n5  C   500   NV  5000            N    3",
      "text/html": "<div>\n<style scoped>\n    .dataframe tbody tr th:only-of-type {\n        vertical-align: middle;\n    }\n\n    .dataframe tbody tr th {\n        vertical-align: top;\n    }\n\n    .dataframe thead th {\n        text-align: right;\n    }\n</style>\n<table border=\"1\" class=\"dataframe\">\n  <thead>\n    <tr style=\"text-align: right;\">\n      <th></th>\n      <th>k1</th>\n      <th>col1</th>\n      <th>col2</th>\n      <th>NEW</th>\n      <th>first letter</th>\n      <th>num</th>\n    </tr>\n  </thead>\n  <tbody>\n    <tr>\n      <th>0</th>\n      <td>A</td>\n      <td>100</td>\n      <td>NY</td>\n      <td>1000</td>\n      <td>N</td>\n      <td>1</td>\n    </tr>\n    <tr>\n      <th>1</th>\n      <td>A</td>\n      <td>200</td>\n      <td>CA</td>\n      <td>2000</td>\n      <td>C</td>\n      <td>1</td>\n    </tr>\n    <tr>\n      <th>2</th>\n      <td>B</td>\n      <td>300</td>\n      <td>WA</td>\n      <td>3000</td>\n      <td>W</td>\n      <td>2</td>\n    </tr>\n    <tr>\n      <th>3</th>\n      <td>B</td>\n      <td>300</td>\n      <td>WA</td>\n      <td>3000</td>\n      <td>W</td>\n      <td>2</td>\n    </tr>\n    <tr>\n      <th>4</th>\n      <td>C</td>\n      <td>400</td>\n      <td>AK</td>\n      <td>4000</td>\n      <td>A</td>\n      <td>3</td>\n    </tr>\n    <tr>\n      <th>5</th>\n      <td>C</td>\n      <td>500</td>\n      <td>NV</td>\n      <td>5000</td>\n      <td>N</td>\n      <td>3</td>\n    </tr>\n  </tbody>\n</table>\n</div>"
     },
     "metadata": {},
     "execution_count": 50
    }
   ],
   "source": [
    "df_one"
   ]
  },
  {
   "cell_type": "code",
   "execution_count": 54,
   "metadata": {},
   "outputs": [
    {
     "output_type": "execute_result",
     "data": {
      "text/plain": "500"
     },
     "metadata": {},
     "execution_count": 54
    }
   ],
   "source": [
    "df_one['col1'].max()"
   ]
  },
  {
   "cell_type": "code",
   "execution_count": 55,
   "metadata": {},
   "outputs": [
    {
     "output_type": "execute_result",
     "data": {
      "text/plain": "5"
     },
     "metadata": {},
     "execution_count": 55
    }
   ],
   "source": [
    "df_one['col1'].idxmax()"
   ]
  },
  {
   "cell_type": "code",
   "execution_count": 56,
   "metadata": {},
   "outputs": [
    {
     "output_type": "execute_result",
     "data": {
      "text/plain": "Index(['k1', 'col1', 'col2', 'NEW', 'first letter', 'num'], dtype='object')"
     },
     "metadata": {},
     "execution_count": 56
    }
   ],
   "source": [
    "df_one.columns"
   ]
  },
  {
   "cell_type": "code",
   "execution_count": 58,
   "metadata": {},
   "outputs": [],
   "source": [
    "df_one.columns = ['c1', 'c2', 'c3', 'c4', 'c5', 'c6']"
   ]
  },
  {
   "cell_type": "code",
   "execution_count": 62,
   "metadata": {},
   "outputs": [
    {
     "output_type": "execute_result",
     "data": {
      "text/plain": "  c1   c2  c3    c4 c5  c6\n2  B  300  WA  3000  W   2\n3  B  300  WA  3000  W   2\n0  A  100  NY  1000  N   1\n5  C  500  NV  5000  N   3\n1  A  200  CA  2000  C   1\n4  C  400  AK  4000  A   3",
      "text/html": "<div>\n<style scoped>\n    .dataframe tbody tr th:only-of-type {\n        vertical-align: middle;\n    }\n\n    .dataframe tbody tr th {\n        vertical-align: top;\n    }\n\n    .dataframe thead th {\n        text-align: right;\n    }\n</style>\n<table border=\"1\" class=\"dataframe\">\n  <thead>\n    <tr style=\"text-align: right;\">\n      <th></th>\n      <th>c1</th>\n      <th>c2</th>\n      <th>c3</th>\n      <th>c4</th>\n      <th>c5</th>\n      <th>c6</th>\n    </tr>\n  </thead>\n  <tbody>\n    <tr>\n      <th>2</th>\n      <td>B</td>\n      <td>300</td>\n      <td>WA</td>\n      <td>3000</td>\n      <td>W</td>\n      <td>2</td>\n    </tr>\n    <tr>\n      <th>3</th>\n      <td>B</td>\n      <td>300</td>\n      <td>WA</td>\n      <td>3000</td>\n      <td>W</td>\n      <td>2</td>\n    </tr>\n    <tr>\n      <th>0</th>\n      <td>A</td>\n      <td>100</td>\n      <td>NY</td>\n      <td>1000</td>\n      <td>N</td>\n      <td>1</td>\n    </tr>\n    <tr>\n      <th>5</th>\n      <td>C</td>\n      <td>500</td>\n      <td>NV</td>\n      <td>5000</td>\n      <td>N</td>\n      <td>3</td>\n    </tr>\n    <tr>\n      <th>1</th>\n      <td>A</td>\n      <td>200</td>\n      <td>CA</td>\n      <td>2000</td>\n      <td>C</td>\n      <td>1</td>\n    </tr>\n    <tr>\n      <th>4</th>\n      <td>C</td>\n      <td>400</td>\n      <td>AK</td>\n      <td>4000</td>\n      <td>A</td>\n      <td>3</td>\n    </tr>\n  </tbody>\n</table>\n</div>"
     },
     "metadata": {},
     "execution_count": 62
    }
   ],
   "source": [
    "df_one.sort_values('c3', ascending=False)"
   ]
  },
  {
   "cell_type": "code",
   "execution_count": 70,
   "metadata": {},
   "outputs": [
    {
     "output_type": "execute_result",
     "data": {
      "text/plain": "   pred\n0     0\n1     1\n2     1\n3     0\n4     1",
      "text/html": "<div>\n<style scoped>\n    .dataframe tbody tr th:only-of-type {\n        vertical-align: middle;\n    }\n\n    .dataframe tbody tr th {\n        vertical-align: top;\n    }\n\n    .dataframe thead th {\n        text-align: right;\n    }\n</style>\n<table border=\"1\" class=\"dataframe\">\n  <thead>\n    <tr style=\"text-align: right;\">\n      <th></th>\n      <th>pred</th>\n    </tr>\n  </thead>\n  <tbody>\n    <tr>\n      <th>0</th>\n      <td>0</td>\n    </tr>\n    <tr>\n      <th>1</th>\n      <td>1</td>\n    </tr>\n    <tr>\n      <th>2</th>\n      <td>1</td>\n    </tr>\n    <tr>\n      <th>3</th>\n      <td>0</td>\n    </tr>\n    <tr>\n      <th>4</th>\n      <td>1</td>\n    </tr>\n  </tbody>\n</table>\n</div>"
     },
     "metadata": {},
     "execution_count": 70
    }
   ],
   "source": [
    "predictions = pd.DataFrame({'pred': [0, 1, 1, 0, 1]})\n",
    "predictions"
   ]
  },
  {
   "cell_type": "code",
   "execution_count": 74,
   "metadata": {},
   "outputs": [
    {
     "output_type": "execute_result",
     "data": {
      "text/plain": "     A   B\n0  100  12\n1  200  13\n2  300  14\n3  400  15\n4  500  16",
      "text/html": "<div>\n<style scoped>\n    .dataframe tbody tr th:only-of-type {\n        vertical-align: middle;\n    }\n\n    .dataframe tbody tr th {\n        vertical-align: top;\n    }\n\n    .dataframe thead th {\n        text-align: right;\n    }\n</style>\n<table border=\"1\" class=\"dataframe\">\n  <thead>\n    <tr style=\"text-align: right;\">\n      <th></th>\n      <th>A</th>\n      <th>B</th>\n    </tr>\n  </thead>\n  <tbody>\n    <tr>\n      <th>0</th>\n      <td>100</td>\n      <td>12</td>\n    </tr>\n    <tr>\n      <th>1</th>\n      <td>200</td>\n      <td>13</td>\n    </tr>\n    <tr>\n      <th>2</th>\n      <td>300</td>\n      <td>14</td>\n    </tr>\n    <tr>\n      <th>3</th>\n      <td>400</td>\n      <td>15</td>\n    </tr>\n    <tr>\n      <th>4</th>\n      <td>500</td>\n      <td>16</td>\n    </tr>\n  </tbody>\n</table>\n</div>"
     },
     "metadata": {},
     "execution_count": 74
    }
   ],
   "source": [
    "features = pd.DataFrame({\n",
    "    'A': [100, 200, 300, 400, 500],\n",
    "    'B': [12, 13, 14, 15, 16]\n",
    "})\n",
    "features"
   ]
  },
  {
   "cell_type": "code",
   "execution_count": 77,
   "metadata": {},
   "outputs": [
    {
     "output_type": "execute_result",
     "data": {
      "text/plain": "     A   B  pred\n0  100  12     0\n1  200  13     1\n2  300  14     1\n3  400  15     0\n4  500  16     1",
      "text/html": "<div>\n<style scoped>\n    .dataframe tbody tr th:only-of-type {\n        vertical-align: middle;\n    }\n\n    .dataframe tbody tr th {\n        vertical-align: top;\n    }\n\n    .dataframe thead th {\n        text-align: right;\n    }\n</style>\n<table border=\"1\" class=\"dataframe\">\n  <thead>\n    <tr style=\"text-align: right;\">\n      <th></th>\n      <th>A</th>\n      <th>B</th>\n      <th>pred</th>\n    </tr>\n  </thead>\n  <tbody>\n    <tr>\n      <th>0</th>\n      <td>100</td>\n      <td>12</td>\n      <td>0</td>\n    </tr>\n    <tr>\n      <th>1</th>\n      <td>200</td>\n      <td>13</td>\n      <td>1</td>\n    </tr>\n    <tr>\n      <th>2</th>\n      <td>300</td>\n      <td>14</td>\n      <td>1</td>\n    </tr>\n    <tr>\n      <th>3</th>\n      <td>400</td>\n      <td>15</td>\n      <td>0</td>\n    </tr>\n    <tr>\n      <th>4</th>\n      <td>500</td>\n      <td>16</td>\n      <td>1</td>\n    </tr>\n  </tbody>\n</table>\n</div>"
     },
     "metadata": {},
     "execution_count": 77
    }
   ],
   "source": [
    "pd.concat([\n",
    "    features,\n",
    "    predictions,\n",
    "], axis=1)"
   ]
  },
  {
   "cell_type": "code",
   "execution_count": 78,
   "metadata": {},
   "outputs": [
    {
     "output_type": "execute_result",
     "data": {
      "text/plain": "0    A\n1    A\n2    B\n3    B\n4    C\n5    C\nName: c1, dtype: object"
     },
     "metadata": {},
     "execution_count": 78
    }
   ],
   "source": [
    "df_one['c1']"
   ]
  },
  {
   "cell_type": "code",
   "execution_count": 79,
   "metadata": {},
   "outputs": [
    {
     "output_type": "execute_result",
     "data": {
      "text/plain": "   A  B  C\n0  1  0  0\n1  1  0  0\n2  0  1  0\n3  0  1  0\n4  0  0  1\n5  0  0  1",
      "text/html": "<div>\n<style scoped>\n    .dataframe tbody tr th:only-of-type {\n        vertical-align: middle;\n    }\n\n    .dataframe tbody tr th {\n        vertical-align: top;\n    }\n\n    .dataframe thead th {\n        text-align: right;\n    }\n</style>\n<table border=\"1\" class=\"dataframe\">\n  <thead>\n    <tr style=\"text-align: right;\">\n      <th></th>\n      <th>A</th>\n      <th>B</th>\n      <th>C</th>\n    </tr>\n  </thead>\n  <tbody>\n    <tr>\n      <th>0</th>\n      <td>1</td>\n      <td>0</td>\n      <td>0</td>\n    </tr>\n    <tr>\n      <th>1</th>\n      <td>1</td>\n      <td>0</td>\n      <td>0</td>\n    </tr>\n    <tr>\n      <th>2</th>\n      <td>0</td>\n      <td>1</td>\n      <td>0</td>\n    </tr>\n    <tr>\n      <th>3</th>\n      <td>0</td>\n      <td>1</td>\n      <td>0</td>\n    </tr>\n    <tr>\n      <th>4</th>\n      <td>0</td>\n      <td>0</td>\n      <td>1</td>\n    </tr>\n    <tr>\n      <th>5</th>\n      <td>0</td>\n      <td>0</td>\n      <td>1</td>\n    </tr>\n  </tbody>\n</table>\n</div>"
     },
     "metadata": {},
     "execution_count": 79
    }
   ],
   "source": [
    "pd.get_dummies(df_one['c1'])"
   ]
  },
  {
   "cell_type": "code",
   "execution_count": null,
   "metadata": {},
   "outputs": [],
   "source": []
  }
 ]
}