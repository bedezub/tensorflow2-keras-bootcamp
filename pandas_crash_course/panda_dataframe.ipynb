{
 "cells": [
  {
   "cell_type": "code",
   "execution_count": 1,
   "metadata": {},
   "outputs": [],
   "source": [
    "import numpy as np\n",
    "import pandas as pd"
   ]
  },
  {
   "cell_type": "code",
   "execution_count": 2,
   "metadata": {},
   "outputs": [],
   "source": [
    "columns = ['W', 'X', 'Y', 'Z']"
   ]
  },
  {
   "cell_type": "code",
   "execution_count": 3,
   "metadata": {},
   "outputs": [],
   "source": [
    "index = ['A', 'B', 'C', 'D', 'E']"
   ]
  },
  {
   "cell_type": "code",
   "execution_count": 4,
   "metadata": {},
   "outputs": [],
   "source": [
    "from numpy.random import randint"
   ]
  },
  {
   "cell_type": "code",
   "execution_count": 7,
   "metadata": {},
   "outputs": [
    {
     "output_type": "execute_result",
     "data": {
      "text/plain": "array([[  2,  79,  -8, -86],\n       [  6, -29,  88, -80],\n       [  2,  21, -26, -13],\n       [ 16,  -1,   3,  51],\n       [ 30,  49, -48, -99]])"
     },
     "metadata": {},
     "execution_count": 7
    }
   ],
   "source": [
    "np.random.seed(42)\n",
    "data = randint(-100, 100, (5,4))\n",
    "data"
   ]
  },
  {
   "cell_type": "code",
   "execution_count": 9,
   "metadata": {},
   "outputs": [
    {
     "output_type": "execute_result",
     "data": {
      "text/plain": "    W   X   Y   Z\nA   2  79  -8 -86\nB   6 -29  88 -80\nC   2  21 -26 -13\nD  16  -1   3  51\nE  30  49 -48 -99",
      "text/html": "<div>\n<style scoped>\n    .dataframe tbody tr th:only-of-type {\n        vertical-align: middle;\n    }\n\n    .dataframe tbody tr th {\n        vertical-align: top;\n    }\n\n    .dataframe thead th {\n        text-align: right;\n    }\n</style>\n<table border=\"1\" class=\"dataframe\">\n  <thead>\n    <tr style=\"text-align: right;\">\n      <th></th>\n      <th>W</th>\n      <th>X</th>\n      <th>Y</th>\n      <th>Z</th>\n    </tr>\n  </thead>\n  <tbody>\n    <tr>\n      <th>A</th>\n      <td>2</td>\n      <td>79</td>\n      <td>-8</td>\n      <td>-86</td>\n    </tr>\n    <tr>\n      <th>B</th>\n      <td>6</td>\n      <td>-29</td>\n      <td>88</td>\n      <td>-80</td>\n    </tr>\n    <tr>\n      <th>C</th>\n      <td>2</td>\n      <td>21</td>\n      <td>-26</td>\n      <td>-13</td>\n    </tr>\n    <tr>\n      <th>D</th>\n      <td>16</td>\n      <td>-1</td>\n      <td>3</td>\n      <td>51</td>\n    </tr>\n    <tr>\n      <th>E</th>\n      <td>30</td>\n      <td>49</td>\n      <td>-48</td>\n      <td>-99</td>\n    </tr>\n  </tbody>\n</table>\n</div>"
     },
     "metadata": {},
     "execution_count": 9
    }
   ],
   "source": [
    "# create pandas dataframe\n",
    "df = pd.DataFrame(data, index, columns)\n",
    "df"
   ]
  },
  {
   "cell_type": "code",
   "execution_count": 10,
   "metadata": {},
   "outputs": [
    {
     "output_type": "execute_result",
     "data": {
      "text/plain": "A     2\nB     6\nC     2\nD    16\nE    30\nName: W, dtype: int64"
     },
     "metadata": {},
     "execution_count": 10
    }
   ],
   "source": [
    "df['W']"
   ]
  },
  {
   "cell_type": "code",
   "execution_count": 11,
   "metadata": {},
   "outputs": [
    {
     "output_type": "execute_result",
     "data": {
      "text/plain": "pandas.core.series.Series"
     },
     "metadata": {},
     "execution_count": 11
    }
   ],
   "source": [
    "type(df['W'])"
   ]
  },
  {
   "cell_type": "code",
   "execution_count": 15,
   "metadata": {},
   "outputs": [
    {
     "output_type": "execute_result",
     "data": {
      "text/plain": "    W   Z\nA   2 -86\nB   6 -80\nC   2 -13\nD  16  51\nE  30 -99",
      "text/html": "<div>\n<style scoped>\n    .dataframe tbody tr th:only-of-type {\n        vertical-align: middle;\n    }\n\n    .dataframe tbody tr th {\n        vertical-align: top;\n    }\n\n    .dataframe thead th {\n        text-align: right;\n    }\n</style>\n<table border=\"1\" class=\"dataframe\">\n  <thead>\n    <tr style=\"text-align: right;\">\n      <th></th>\n      <th>W</th>\n      <th>Z</th>\n    </tr>\n  </thead>\n  <tbody>\n    <tr>\n      <th>A</th>\n      <td>2</td>\n      <td>-86</td>\n    </tr>\n    <tr>\n      <th>B</th>\n      <td>6</td>\n      <td>-80</td>\n    </tr>\n    <tr>\n      <th>C</th>\n      <td>2</td>\n      <td>-13</td>\n    </tr>\n    <tr>\n      <th>D</th>\n      <td>16</td>\n      <td>51</td>\n    </tr>\n    <tr>\n      <th>E</th>\n      <td>30</td>\n      <td>-99</td>\n    </tr>\n  </tbody>\n</table>\n</div>"
     },
     "metadata": {},
     "execution_count": 15
    }
   ],
   "source": [
    "# list of columns use []\n",
    "df[['W','Z']]"
   ]
  },
  {
   "cell_type": "code",
   "execution_count": 18,
   "metadata": {},
   "outputs": [
    {
     "output_type": "execute_result",
     "data": {
      "text/plain": "    W   X   Y   Z  new\nA   2  79  -8 -86   -6\nB   6 -29  88 -80   94\nC   2  21 -26 -13  -24\nD  16  -1   3  51   19\nE  30  49 -48 -99  -18",
      "text/html": "<div>\n<style scoped>\n    .dataframe tbody tr th:only-of-type {\n        vertical-align: middle;\n    }\n\n    .dataframe tbody tr th {\n        vertical-align: top;\n    }\n\n    .dataframe thead th {\n        text-align: right;\n    }\n</style>\n<table border=\"1\" class=\"dataframe\">\n  <thead>\n    <tr style=\"text-align: right;\">\n      <th></th>\n      <th>W</th>\n      <th>X</th>\n      <th>Y</th>\n      <th>Z</th>\n      <th>new</th>\n    </tr>\n  </thead>\n  <tbody>\n    <tr>\n      <th>A</th>\n      <td>2</td>\n      <td>79</td>\n      <td>-8</td>\n      <td>-86</td>\n      <td>-6</td>\n    </tr>\n    <tr>\n      <th>B</th>\n      <td>6</td>\n      <td>-29</td>\n      <td>88</td>\n      <td>-80</td>\n      <td>94</td>\n    </tr>\n    <tr>\n      <th>C</th>\n      <td>2</td>\n      <td>21</td>\n      <td>-26</td>\n      <td>-13</td>\n      <td>-24</td>\n    </tr>\n    <tr>\n      <th>D</th>\n      <td>16</td>\n      <td>-1</td>\n      <td>3</td>\n      <td>51</td>\n      <td>19</td>\n    </tr>\n    <tr>\n      <th>E</th>\n      <td>30</td>\n      <td>49</td>\n      <td>-48</td>\n      <td>-99</td>\n      <td>-18</td>\n    </tr>\n  </tbody>\n</table>\n</div>"
     },
     "metadata": {},
     "execution_count": 18
    }
   ],
   "source": [
    "# create new column\n",
    "df['new'] = df['W'] + df['Y']\n",
    "df"
   ]
  },
  {
   "cell_type": "code",
   "execution_count": 22,
   "metadata": {},
   "outputs": [
    {
     "output_type": "execute_result",
     "data": {
      "text/plain": "    W   X   Y   Z\nA   2  79  -8 -86\nB   6 -29  88 -80\nC   2  21 -26 -13\nD  16  -1   3  51\nE  30  49 -48 -99",
      "text/html": "<div>\n<style scoped>\n    .dataframe tbody tr th:only-of-type {\n        vertical-align: middle;\n    }\n\n    .dataframe tbody tr th {\n        vertical-align: top;\n    }\n\n    .dataframe thead th {\n        text-align: right;\n    }\n</style>\n<table border=\"1\" class=\"dataframe\">\n  <thead>\n    <tr style=\"text-align: right;\">\n      <th></th>\n      <th>W</th>\n      <th>X</th>\n      <th>Y</th>\n      <th>Z</th>\n    </tr>\n  </thead>\n  <tbody>\n    <tr>\n      <th>A</th>\n      <td>2</td>\n      <td>79</td>\n      <td>-8</td>\n      <td>-86</td>\n    </tr>\n    <tr>\n      <th>B</th>\n      <td>6</td>\n      <td>-29</td>\n      <td>88</td>\n      <td>-80</td>\n    </tr>\n    <tr>\n      <th>C</th>\n      <td>2</td>\n      <td>21</td>\n      <td>-26</td>\n      <td>-13</td>\n    </tr>\n    <tr>\n      <th>D</th>\n      <td>16</td>\n      <td>-1</td>\n      <td>3</td>\n      <td>51</td>\n    </tr>\n    <tr>\n      <th>E</th>\n      <td>30</td>\n      <td>49</td>\n      <td>-48</td>\n      <td>-99</td>\n    </tr>\n  </tbody>\n</table>\n</div>"
     },
     "metadata": {},
     "execution_count": 22
    }
   ],
   "source": [
    "df"
   ]
  },
  {
   "cell_type": "code",
   "execution_count": 24,
   "metadata": {},
   "outputs": [
    {
     "output_type": "execute_result",
     "data": {
      "text/plain": "W     2\nX    79\nY    -8\nZ   -86\nName: A, dtype: int64"
     },
     "metadata": {},
     "execution_count": 24
    }
   ],
   "source": [
    "# calling column panda series\n",
    "df.loc['A']"
   ]
  },
  {
   "cell_type": "code",
   "execution_count": 25,
   "metadata": {},
   "outputs": [
    {
     "output_type": "execute_result",
     "data": {
      "text/plain": "    W   X   Y   Z\nA   2  79  -8 -86\nE  30  49 -48 -99",
      "text/html": "<div>\n<style scoped>\n    .dataframe tbody tr th:only-of-type {\n        vertical-align: middle;\n    }\n\n    .dataframe tbody tr th {\n        vertical-align: top;\n    }\n\n    .dataframe thead th {\n        text-align: right;\n    }\n</style>\n<table border=\"1\" class=\"dataframe\">\n  <thead>\n    <tr style=\"text-align: right;\">\n      <th></th>\n      <th>W</th>\n      <th>X</th>\n      <th>Y</th>\n      <th>Z</th>\n    </tr>\n  </thead>\n  <tbody>\n    <tr>\n      <th>A</th>\n      <td>2</td>\n      <td>79</td>\n      <td>-8</td>\n      <td>-86</td>\n    </tr>\n    <tr>\n      <th>E</th>\n      <td>30</td>\n      <td>49</td>\n      <td>-48</td>\n      <td>-99</td>\n    </tr>\n  </tbody>\n</table>\n</div>"
     },
     "metadata": {},
     "execution_count": 25
    }
   ],
   "source": [
    "df.loc[['A', 'E']]"
   ]
  },
  {
   "cell_type": "code",
   "execution_count": 26,
   "metadata": {},
   "outputs": [
    {
     "output_type": "execute_result",
     "data": {
      "text/plain": "W     2\nX    79\nY    -8\nZ   -86\nName: A, dtype: int64"
     },
     "metadata": {},
     "execution_count": 26
    }
   ],
   "source": [
    "# using index based\n",
    "df.iloc[0]"
   ]
  },
  {
   "cell_type": "code",
   "execution_count": 27,
   "metadata": {},
   "outputs": [
    {
     "output_type": "execute_result",
     "data": {
      "text/plain": "   W   X   Y   Z\nA  2  79  -8 -86\nB  6 -29  88 -80\nC  2  21 -26 -13",
      "text/html": "<div>\n<style scoped>\n    .dataframe tbody tr th:only-of-type {\n        vertical-align: middle;\n    }\n\n    .dataframe tbody tr th {\n        vertical-align: top;\n    }\n\n    .dataframe thead th {\n        text-align: right;\n    }\n</style>\n<table border=\"1\" class=\"dataframe\">\n  <thead>\n    <tr style=\"text-align: right;\">\n      <th></th>\n      <th>W</th>\n      <th>X</th>\n      <th>Y</th>\n      <th>Z</th>\n    </tr>\n  </thead>\n  <tbody>\n    <tr>\n      <th>A</th>\n      <td>2</td>\n      <td>79</td>\n      <td>-8</td>\n      <td>-86</td>\n    </tr>\n    <tr>\n      <th>B</th>\n      <td>6</td>\n      <td>-29</td>\n      <td>88</td>\n      <td>-80</td>\n    </tr>\n    <tr>\n      <th>C</th>\n      <td>2</td>\n      <td>21</td>\n      <td>-26</td>\n      <td>-13</td>\n    </tr>\n  </tbody>\n</table>\n</div>"
     },
     "metadata": {},
     "execution_count": 27
    }
   ],
   "source": [
    "df.iloc[0:3]"
   ]
  },
  {
   "cell_type": "code",
   "execution_count": 29,
   "metadata": {},
   "outputs": [
    {
     "output_type": "execute_result",
     "data": {
      "text/plain": "    W   X   Y   Z\nA   2  79  -8 -86\nB   6 -29  88 -80\nD  16  -1   3  51\nE  30  49 -48 -99",
      "text/html": "<div>\n<style scoped>\n    .dataframe tbody tr th:only-of-type {\n        vertical-align: middle;\n    }\n\n    .dataframe tbody tr th {\n        vertical-align: top;\n    }\n\n    .dataframe thead th {\n        text-align: right;\n    }\n</style>\n<table border=\"1\" class=\"dataframe\">\n  <thead>\n    <tr style=\"text-align: right;\">\n      <th></th>\n      <th>W</th>\n      <th>X</th>\n      <th>Y</th>\n      <th>Z</th>\n    </tr>\n  </thead>\n  <tbody>\n    <tr>\n      <th>A</th>\n      <td>2</td>\n      <td>79</td>\n      <td>-8</td>\n      <td>-86</td>\n    </tr>\n    <tr>\n      <th>B</th>\n      <td>6</td>\n      <td>-29</td>\n      <td>88</td>\n      <td>-80</td>\n    </tr>\n    <tr>\n      <th>D</th>\n      <td>16</td>\n      <td>-1</td>\n      <td>3</td>\n      <td>51</td>\n    </tr>\n    <tr>\n      <th>E</th>\n      <td>30</td>\n      <td>49</td>\n      <td>-48</td>\n      <td>-99</td>\n    </tr>\n  </tbody>\n</table>\n</div>"
     },
     "metadata": {},
     "execution_count": 29
    }
   ],
   "source": [
    "df.drop('C')"
   ]
  },
  {
   "cell_type": "code",
   "execution_count": 31,
   "metadata": {},
   "outputs": [
    {
     "output_type": "execute_result",
     "data": {
      "text/plain": "   W   Y\nA  2  -8\nC  2 -26",
      "text/html": "<div>\n<style scoped>\n    .dataframe tbody tr th:only-of-type {\n        vertical-align: middle;\n    }\n\n    .dataframe tbody tr th {\n        vertical-align: top;\n    }\n\n    .dataframe thead th {\n        text-align: right;\n    }\n</style>\n<table border=\"1\" class=\"dataframe\">\n  <thead>\n    <tr style=\"text-align: right;\">\n      <th></th>\n      <th>W</th>\n      <th>Y</th>\n    </tr>\n  </thead>\n  <tbody>\n    <tr>\n      <th>A</th>\n      <td>2</td>\n      <td>-8</td>\n    </tr>\n    <tr>\n      <th>C</th>\n      <td>2</td>\n      <td>-26</td>\n    </tr>\n  </tbody>\n</table>\n</div>"
     },
     "metadata": {},
     "execution_count": 31
    }
   ],
   "source": [
    "# get subset of the dataframe\n",
    "df.loc[['A', 'C'], ['W', 'Y']]"
   ]
  },
  {
   "cell_type": "code",
   "execution_count": 33,
   "metadata": {},
   "outputs": [
    {
     "output_type": "execute_result",
     "data": {
      "text/plain": "array([[  2,  79,  -8, -86],\n       [  6, -29,  88, -80],\n       [  2,  21, -26, -13],\n       [ 16,  -1,   3,  51],\n       [ 30,  49, -48, -99]])"
     },
     "metadata": {},
     "execution_count": 33
    }
   ],
   "source": [
    "np.random.seed(42)\n",
    "data = randint(-100, 100, (5,4))\n",
    "data"
   ]
  },
  {
   "cell_type": "code",
   "execution_count": 34,
   "metadata": {},
   "outputs": [
    {
     "output_type": "execute_result",
     "data": {
      "text/plain": "    W   X   Y   Z\nA   2  79  -8 -86\nB   6 -29  88 -80\nC   2  21 -26 -13\nD  16  -1   3  51\nE  30  49 -48 -99",
      "text/html": "<div>\n<style scoped>\n    .dataframe tbody tr th:only-of-type {\n        vertical-align: middle;\n    }\n\n    .dataframe tbody tr th {\n        vertical-align: top;\n    }\n\n    .dataframe thead th {\n        text-align: right;\n    }\n</style>\n<table border=\"1\" class=\"dataframe\">\n  <thead>\n    <tr style=\"text-align: right;\">\n      <th></th>\n      <th>W</th>\n      <th>X</th>\n      <th>Y</th>\n      <th>Z</th>\n    </tr>\n  </thead>\n  <tbody>\n    <tr>\n      <th>A</th>\n      <td>2</td>\n      <td>79</td>\n      <td>-8</td>\n      <td>-86</td>\n    </tr>\n    <tr>\n      <th>B</th>\n      <td>6</td>\n      <td>-29</td>\n      <td>88</td>\n      <td>-80</td>\n    </tr>\n    <tr>\n      <th>C</th>\n      <td>2</td>\n      <td>21</td>\n      <td>-26</td>\n      <td>-13</td>\n    </tr>\n    <tr>\n      <th>D</th>\n      <td>16</td>\n      <td>-1</td>\n      <td>3</td>\n      <td>51</td>\n    </tr>\n    <tr>\n      <th>E</th>\n      <td>30</td>\n      <td>49</td>\n      <td>-48</td>\n      <td>-99</td>\n    </tr>\n  </tbody>\n</table>\n</div>"
     },
     "metadata": {},
     "execution_count": 34
    }
   ],
   "source": [
    "df = pd.DataFrame(data, index, columns)\n",
    "df"
   ]
  },
  {
   "cell_type": "code",
   "execution_count": 35,
   "metadata": {},
   "outputs": [
    {
     "output_type": "execute_result",
     "data": {
      "text/plain": "      W      X      Y      Z\nA  True   True  False  False\nB  True  False   True  False\nC  True   True  False  False\nD  True  False   True   True\nE  True   True  False  False",
      "text/html": "<div>\n<style scoped>\n    .dataframe tbody tr th:only-of-type {\n        vertical-align: middle;\n    }\n\n    .dataframe tbody tr th {\n        vertical-align: top;\n    }\n\n    .dataframe thead th {\n        text-align: right;\n    }\n</style>\n<table border=\"1\" class=\"dataframe\">\n  <thead>\n    <tr style=\"text-align: right;\">\n      <th></th>\n      <th>W</th>\n      <th>X</th>\n      <th>Y</th>\n      <th>Z</th>\n    </tr>\n  </thead>\n  <tbody>\n    <tr>\n      <th>A</th>\n      <td>True</td>\n      <td>True</td>\n      <td>False</td>\n      <td>False</td>\n    </tr>\n    <tr>\n      <th>B</th>\n      <td>True</td>\n      <td>False</td>\n      <td>True</td>\n      <td>False</td>\n    </tr>\n    <tr>\n      <th>C</th>\n      <td>True</td>\n      <td>True</td>\n      <td>False</td>\n      <td>False</td>\n    </tr>\n    <tr>\n      <th>D</th>\n      <td>True</td>\n      <td>False</td>\n      <td>True</td>\n      <td>True</td>\n    </tr>\n    <tr>\n      <th>E</th>\n      <td>True</td>\n      <td>True</td>\n      <td>False</td>\n      <td>False</td>\n    </tr>\n  </tbody>\n</table>\n</div>"
     },
     "metadata": {},
     "execution_count": 35
    }
   ],
   "source": [
    "df > 0"
   ]
  },
  {
   "cell_type": "code",
   "execution_count": 37,
   "metadata": {},
   "outputs": [
    {
     "output_type": "execute_result",
     "data": {
      "text/plain": "    W     X     Y     Z\nA   2  79.0   NaN   NaN\nB   6   NaN  88.0   NaN\nC   2  21.0   NaN   NaN\nD  16   NaN   3.0  51.0\nE  30  49.0   NaN   NaN",
      "text/html": "<div>\n<style scoped>\n    .dataframe tbody tr th:only-of-type {\n        vertical-align: middle;\n    }\n\n    .dataframe tbody tr th {\n        vertical-align: top;\n    }\n\n    .dataframe thead th {\n        text-align: right;\n    }\n</style>\n<table border=\"1\" class=\"dataframe\">\n  <thead>\n    <tr style=\"text-align: right;\">\n      <th></th>\n      <th>W</th>\n      <th>X</th>\n      <th>Y</th>\n      <th>Z</th>\n    </tr>\n  </thead>\n  <tbody>\n    <tr>\n      <th>A</th>\n      <td>2</td>\n      <td>79.0</td>\n      <td>NaN</td>\n      <td>NaN</td>\n    </tr>\n    <tr>\n      <th>B</th>\n      <td>6</td>\n      <td>NaN</td>\n      <td>88.0</td>\n      <td>NaN</td>\n    </tr>\n    <tr>\n      <th>C</th>\n      <td>2</td>\n      <td>21.0</td>\n      <td>NaN</td>\n      <td>NaN</td>\n    </tr>\n    <tr>\n      <th>D</th>\n      <td>16</td>\n      <td>NaN</td>\n      <td>3.0</td>\n      <td>51.0</td>\n    </tr>\n    <tr>\n      <th>E</th>\n      <td>30</td>\n      <td>49.0</td>\n      <td>NaN</td>\n      <td>NaN</td>\n    </tr>\n  </tbody>\n</table>\n</div>"
     },
     "metadata": {},
     "execution_count": 37
    }
   ],
   "source": [
    "# remove false number (negative number)\n",
    "# passing into function \n",
    "df[df > 0]"
   ]
  },
  {
   "cell_type": "code",
   "execution_count": 38,
   "metadata": {},
   "outputs": [
    {
     "output_type": "execute_result",
     "data": {
      "text/plain": "A     True\nB    False\nC     True\nD    False\nE     True\nName: X, dtype: bool"
     },
     "metadata": {},
     "execution_count": 38
    }
   ],
   "source": [
    "# condition selection\n",
    "# get column where value is > 0\n",
    "df['X']>0"
   ]
  },
  {
   "cell_type": "code",
   "execution_count": 39,
   "metadata": {},
   "outputs": [
    {
     "output_type": "execute_result",
     "data": {
      "text/plain": "    W   X   Y   Z\nA   2  79  -8 -86\nC   2  21 -26 -13\nE  30  49 -48 -99",
      "text/html": "<div>\n<style scoped>\n    .dataframe tbody tr th:only-of-type {\n        vertical-align: middle;\n    }\n\n    .dataframe tbody tr th {\n        vertical-align: top;\n    }\n\n    .dataframe thead th {\n        text-align: right;\n    }\n</style>\n<table border=\"1\" class=\"dataframe\">\n  <thead>\n    <tr style=\"text-align: right;\">\n      <th></th>\n      <th>W</th>\n      <th>X</th>\n      <th>Y</th>\n      <th>Z</th>\n    </tr>\n  </thead>\n  <tbody>\n    <tr>\n      <th>A</th>\n      <td>2</td>\n      <td>79</td>\n      <td>-8</td>\n      <td>-86</td>\n    </tr>\n    <tr>\n      <th>C</th>\n      <td>2</td>\n      <td>21</td>\n      <td>-26</td>\n      <td>-13</td>\n    </tr>\n    <tr>\n      <th>E</th>\n      <td>30</td>\n      <td>49</td>\n      <td>-48</td>\n      <td>-99</td>\n    </tr>\n  </tbody>\n</table>\n</div>"
     },
     "metadata": {},
     "execution_count": 39
    }
   ],
   "source": [
    "# dataframe where X is > 0\n",
    "df[df['X']>0]"
   ]
  },
  {
   "cell_type": "code",
   "execution_count": 45,
   "metadata": {},
   "outputs": [
    {
     "output_type": "execute_result",
     "data": {
      "text/plain": "    W   X   Y   Z\nB   6 -29  88 -80\nD  16  -1   3  51",
      "text/html": "<div>\n<style scoped>\n    .dataframe tbody tr th:only-of-type {\n        vertical-align: middle;\n    }\n\n    .dataframe tbody tr th {\n        vertical-align: top;\n    }\n\n    .dataframe thead th {\n        text-align: right;\n    }\n</style>\n<table border=\"1\" class=\"dataframe\">\n  <thead>\n    <tr style=\"text-align: right;\">\n      <th></th>\n      <th>W</th>\n      <th>X</th>\n      <th>Y</th>\n      <th>Z</th>\n    </tr>\n  </thead>\n  <tbody>\n    <tr>\n      <th>B</th>\n      <td>6</td>\n      <td>-29</td>\n      <td>88</td>\n      <td>-80</td>\n    </tr>\n    <tr>\n      <th>D</th>\n      <td>16</td>\n      <td>-1</td>\n      <td>3</td>\n      <td>51</td>\n    </tr>\n  </tbody>\n</table>\n</div>"
     },
     "metadata": {},
     "execution_count": 45
    }
   ],
   "source": [
    "# multiple condition\n",
    "df[(df['W']>0) & (df['Y']>1)]"
   ]
  },
  {
   "cell_type": "code",
   "execution_count": 46,
   "metadata": {},
   "outputs": [
    {
     "output_type": "execute_result",
     "data": {
      "text/plain": "    W   X   Y   Z\nA   2  79  -8 -86\nB   6 -29  88 -80\nC   2  21 -26 -13\nD  16  -1   3  51\nE  30  49 -48 -99",
      "text/html": "<div>\n<style scoped>\n    .dataframe tbody tr th:only-of-type {\n        vertical-align: middle;\n    }\n\n    .dataframe tbody tr th {\n        vertical-align: top;\n    }\n\n    .dataframe thead th {\n        text-align: right;\n    }\n</style>\n<table border=\"1\" class=\"dataframe\">\n  <thead>\n    <tr style=\"text-align: right;\">\n      <th></th>\n      <th>W</th>\n      <th>X</th>\n      <th>Y</th>\n      <th>Z</th>\n    </tr>\n  </thead>\n  <tbody>\n    <tr>\n      <th>A</th>\n      <td>2</td>\n      <td>79</td>\n      <td>-8</td>\n      <td>-86</td>\n    </tr>\n    <tr>\n      <th>B</th>\n      <td>6</td>\n      <td>-29</td>\n      <td>88</td>\n      <td>-80</td>\n    </tr>\n    <tr>\n      <th>C</th>\n      <td>2</td>\n      <td>21</td>\n      <td>-26</td>\n      <td>-13</td>\n    </tr>\n    <tr>\n      <th>D</th>\n      <td>16</td>\n      <td>-1</td>\n      <td>3</td>\n      <td>51</td>\n    </tr>\n    <tr>\n      <th>E</th>\n      <td>30</td>\n      <td>49</td>\n      <td>-48</td>\n      <td>-99</td>\n    </tr>\n  </tbody>\n</table>\n</div>"
     },
     "metadata": {},
     "execution_count": 46
    }
   ],
   "source": [
    "df"
   ]
  },
  {
   "cell_type": "code",
   "execution_count": 47,
   "metadata": {},
   "outputs": [
    {
     "output_type": "execute_result",
     "data": {
      "text/plain": "  index   W   X   Y   Z\n0     A   2  79  -8 -86\n1     B   6 -29  88 -80\n2     C   2  21 -26 -13\n3     D  16  -1   3  51\n4     E  30  49 -48 -99",
      "text/html": "<div>\n<style scoped>\n    .dataframe tbody tr th:only-of-type {\n        vertical-align: middle;\n    }\n\n    .dataframe tbody tr th {\n        vertical-align: top;\n    }\n\n    .dataframe thead th {\n        text-align: right;\n    }\n</style>\n<table border=\"1\" class=\"dataframe\">\n  <thead>\n    <tr style=\"text-align: right;\">\n      <th></th>\n      <th>index</th>\n      <th>W</th>\n      <th>X</th>\n      <th>Y</th>\n      <th>Z</th>\n    </tr>\n  </thead>\n  <tbody>\n    <tr>\n      <th>0</th>\n      <td>A</td>\n      <td>2</td>\n      <td>79</td>\n      <td>-8</td>\n      <td>-86</td>\n    </tr>\n    <tr>\n      <th>1</th>\n      <td>B</td>\n      <td>6</td>\n      <td>-29</td>\n      <td>88</td>\n      <td>-80</td>\n    </tr>\n    <tr>\n      <th>2</th>\n      <td>C</td>\n      <td>2</td>\n      <td>21</td>\n      <td>-26</td>\n      <td>-13</td>\n    </tr>\n    <tr>\n      <th>3</th>\n      <td>D</td>\n      <td>16</td>\n      <td>-1</td>\n      <td>3</td>\n      <td>51</td>\n    </tr>\n    <tr>\n      <th>4</th>\n      <td>E</td>\n      <td>30</td>\n      <td>49</td>\n      <td>-48</td>\n      <td>-99</td>\n    </tr>\n  </tbody>\n</table>\n</div>"
     },
     "metadata": {},
     "execution_count": 47
    }
   ],
   "source": [
    "df.reset_index()"
   ]
  },
  {
   "cell_type": "code",
   "execution_count": 48,
   "metadata": {},
   "outputs": [
    {
     "output_type": "execute_result",
     "data": {
      "text/plain": "    W   X   Y   Z\nA   2  79  -8 -86\nB   6 -29  88 -80\nC   2  21 -26 -13\nD  16  -1   3  51\nE  30  49 -48 -99",
      "text/html": "<div>\n<style scoped>\n    .dataframe tbody tr th:only-of-type {\n        vertical-align: middle;\n    }\n\n    .dataframe tbody tr th {\n        vertical-align: top;\n    }\n\n    .dataframe thead th {\n        text-align: right;\n    }\n</style>\n<table border=\"1\" class=\"dataframe\">\n  <thead>\n    <tr style=\"text-align: right;\">\n      <th></th>\n      <th>W</th>\n      <th>X</th>\n      <th>Y</th>\n      <th>Z</th>\n    </tr>\n  </thead>\n  <tbody>\n    <tr>\n      <th>A</th>\n      <td>2</td>\n      <td>79</td>\n      <td>-8</td>\n      <td>-86</td>\n    </tr>\n    <tr>\n      <th>B</th>\n      <td>6</td>\n      <td>-29</td>\n      <td>88</td>\n      <td>-80</td>\n    </tr>\n    <tr>\n      <th>C</th>\n      <td>2</td>\n      <td>21</td>\n      <td>-26</td>\n      <td>-13</td>\n    </tr>\n    <tr>\n      <th>D</th>\n      <td>16</td>\n      <td>-1</td>\n      <td>3</td>\n      <td>51</td>\n    </tr>\n    <tr>\n      <th>E</th>\n      <td>30</td>\n      <td>49</td>\n      <td>-48</td>\n      <td>-99</td>\n    </tr>\n  </tbody>\n</table>\n</div>"
     },
     "metadata": {},
     "execution_count": 48
    }
   ],
   "source": [
    "df"
   ]
  },
  {
   "cell_type": "code",
   "execution_count": 49,
   "metadata": {},
   "outputs": [],
   "source": [
    "new_ind = ['CA', 'NY', 'WY', 'OR', 'CO']"
   ]
  },
  {
   "cell_type": "code",
   "execution_count": 50,
   "metadata": {},
   "outputs": [],
   "source": [
    "df['States'] = new_ind"
   ]
  },
  {
   "cell_type": "code",
   "execution_count": 51,
   "metadata": {},
   "outputs": [
    {
     "output_type": "execute_result",
     "data": {
      "text/plain": "    W   X   Y   Z States\nA   2  79  -8 -86     CA\nB   6 -29  88 -80     NY\nC   2  21 -26 -13     WY\nD  16  -1   3  51     OR\nE  30  49 -48 -99     CO",
      "text/html": "<div>\n<style scoped>\n    .dataframe tbody tr th:only-of-type {\n        vertical-align: middle;\n    }\n\n    .dataframe tbody tr th {\n        vertical-align: top;\n    }\n\n    .dataframe thead th {\n        text-align: right;\n    }\n</style>\n<table border=\"1\" class=\"dataframe\">\n  <thead>\n    <tr style=\"text-align: right;\">\n      <th></th>\n      <th>W</th>\n      <th>X</th>\n      <th>Y</th>\n      <th>Z</th>\n      <th>States</th>\n    </tr>\n  </thead>\n  <tbody>\n    <tr>\n      <th>A</th>\n      <td>2</td>\n      <td>79</td>\n      <td>-8</td>\n      <td>-86</td>\n      <td>CA</td>\n    </tr>\n    <tr>\n      <th>B</th>\n      <td>6</td>\n      <td>-29</td>\n      <td>88</td>\n      <td>-80</td>\n      <td>NY</td>\n    </tr>\n    <tr>\n      <th>C</th>\n      <td>2</td>\n      <td>21</td>\n      <td>-26</td>\n      <td>-13</td>\n      <td>WY</td>\n    </tr>\n    <tr>\n      <th>D</th>\n      <td>16</td>\n      <td>-1</td>\n      <td>3</td>\n      <td>51</td>\n      <td>OR</td>\n    </tr>\n    <tr>\n      <th>E</th>\n      <td>30</td>\n      <td>49</td>\n      <td>-48</td>\n      <td>-99</td>\n      <td>CO</td>\n    </tr>\n  </tbody>\n</table>\n</div>"
     },
     "metadata": {},
     "execution_count": 51
    }
   ],
   "source": [
    "df"
   ]
  },
  {
   "cell_type": "code",
   "execution_count": 53,
   "metadata": {},
   "outputs": [],
   "source": [
    "# set new index for new dataframe\n",
    "df = df.set_index('States')"
   ]
  },
  {
   "cell_type": "code",
   "execution_count": 54,
   "metadata": {},
   "outputs": [
    {
     "output_type": "execute_result",
     "data": {
      "text/plain": "         W   X   Y   Z\nStates                \nCA       2  79  -8 -86\nNY       6 -29  88 -80\nWY       2  21 -26 -13\nOR      16  -1   3  51\nCO      30  49 -48 -99",
      "text/html": "<div>\n<style scoped>\n    .dataframe tbody tr th:only-of-type {\n        vertical-align: middle;\n    }\n\n    .dataframe tbody tr th {\n        vertical-align: top;\n    }\n\n    .dataframe thead th {\n        text-align: right;\n    }\n</style>\n<table border=\"1\" class=\"dataframe\">\n  <thead>\n    <tr style=\"text-align: right;\">\n      <th></th>\n      <th>W</th>\n      <th>X</th>\n      <th>Y</th>\n      <th>Z</th>\n    </tr>\n    <tr>\n      <th>States</th>\n      <th></th>\n      <th></th>\n      <th></th>\n      <th></th>\n    </tr>\n  </thead>\n  <tbody>\n    <tr>\n      <th>CA</th>\n      <td>2</td>\n      <td>79</td>\n      <td>-8</td>\n      <td>-86</td>\n    </tr>\n    <tr>\n      <th>NY</th>\n      <td>6</td>\n      <td>-29</td>\n      <td>88</td>\n      <td>-80</td>\n    </tr>\n    <tr>\n      <th>WY</th>\n      <td>2</td>\n      <td>21</td>\n      <td>-26</td>\n      <td>-13</td>\n    </tr>\n    <tr>\n      <th>OR</th>\n      <td>16</td>\n      <td>-1</td>\n      <td>3</td>\n      <td>51</td>\n    </tr>\n    <tr>\n      <th>CO</th>\n      <td>30</td>\n      <td>49</td>\n      <td>-48</td>\n      <td>-99</td>\n    </tr>\n  </tbody>\n</table>\n</div>"
     },
     "metadata": {},
     "execution_count": 54
    }
   ],
   "source": [
    "df"
   ]
  },
  {
   "cell_type": "code",
   "execution_count": 55,
   "metadata": {},
   "outputs": [
    {
     "output_type": "execute_result",
     "data": {
      "text/plain": "              W          X          Y          Z\ncount   5.00000   5.000000   5.000000   5.000000\nmean   11.20000  23.800000   1.800000 -45.400000\nstd    11.96662  42.109381  51.915316  63.366395\nmin     2.00000 -29.000000 -48.000000 -99.000000\n25%     2.00000  -1.000000 -26.000000 -86.000000\n50%     6.00000  21.000000  -8.000000 -80.000000\n75%    16.00000  49.000000   3.000000 -13.000000\nmax    30.00000  79.000000  88.000000  51.000000",
      "text/html": "<div>\n<style scoped>\n    .dataframe tbody tr th:only-of-type {\n        vertical-align: middle;\n    }\n\n    .dataframe tbody tr th {\n        vertical-align: top;\n    }\n\n    .dataframe thead th {\n        text-align: right;\n    }\n</style>\n<table border=\"1\" class=\"dataframe\">\n  <thead>\n    <tr style=\"text-align: right;\">\n      <th></th>\n      <th>W</th>\n      <th>X</th>\n      <th>Y</th>\n      <th>Z</th>\n    </tr>\n  </thead>\n  <tbody>\n    <tr>\n      <th>count</th>\n      <td>5.00000</td>\n      <td>5.000000</td>\n      <td>5.000000</td>\n      <td>5.000000</td>\n    </tr>\n    <tr>\n      <th>mean</th>\n      <td>11.20000</td>\n      <td>23.800000</td>\n      <td>1.800000</td>\n      <td>-45.400000</td>\n    </tr>\n    <tr>\n      <th>std</th>\n      <td>11.96662</td>\n      <td>42.109381</td>\n      <td>51.915316</td>\n      <td>63.366395</td>\n    </tr>\n    <tr>\n      <th>min</th>\n      <td>2.00000</td>\n      <td>-29.000000</td>\n      <td>-48.000000</td>\n      <td>-99.000000</td>\n    </tr>\n    <tr>\n      <th>25%</th>\n      <td>2.00000</td>\n      <td>-1.000000</td>\n      <td>-26.000000</td>\n      <td>-86.000000</td>\n    </tr>\n    <tr>\n      <th>50%</th>\n      <td>6.00000</td>\n      <td>21.000000</td>\n      <td>-8.000000</td>\n      <td>-80.000000</td>\n    </tr>\n    <tr>\n      <th>75%</th>\n      <td>16.00000</td>\n      <td>49.000000</td>\n      <td>3.000000</td>\n      <td>-13.000000</td>\n    </tr>\n    <tr>\n      <th>max</th>\n      <td>30.00000</td>\n      <td>79.000000</td>\n      <td>88.000000</td>\n      <td>51.000000</td>\n    </tr>\n  </tbody>\n</table>\n</div>"
     },
     "metadata": {},
     "execution_count": 55
    }
   ],
   "source": [
    "df.describe()"
   ]
  },
  {
   "cell_type": "code",
   "execution_count": 56,
   "metadata": {},
   "outputs": [
    {
     "output_type": "stream",
     "name": "stdout",
     "text": "<class 'pandas.core.frame.DataFrame'>\nIndex: 5 entries, CA to CO\nData columns (total 4 columns):\nW    5 non-null int64\nX    5 non-null int64\nY    5 non-null int64\nZ    5 non-null int64\ndtypes: int64(4)\nmemory usage: 360.0+ bytes\n"
    }
   ],
   "source": [
    "df.info()"
   ]
  }
 ],
 "metadata": {
  "language_info": {
   "codemirror_mode": {
    "name": "ipython",
    "version": 3
   },
   "file_extension": ".py",
   "mimetype": "text/x-python",
   "name": "python",
   "nbconvert_exporter": "python",
   "pygments_lexer": "ipython3",
   "version": "3.7.7-final"
  },
  "orig_nbformat": 2,
  "kernelspec": {
   "name": "python37764bit360fd688bb724363a5e0370e95113118",
   "display_name": "Python 3.7.7 64-bit"
  }
 },
 "nbformat": 4,
 "nbformat_minor": 2
}